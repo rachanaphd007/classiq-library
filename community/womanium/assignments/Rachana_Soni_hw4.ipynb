{
 "cells": [
  {
   "cell_type": "markdown",
   "id": "a5eb26ae",
   "metadata": {},
   "source": [
    "# Assignment: Follow the example from Bootcamp 4, for creating the quantum walk operator for the case of a circle with 4 nodes, and design the quantum walk operator for the case of a line with 16 nodes:\n",
    "\n"
   ]
  },
  {
   "cell_type": "code",
   "execution_count": 17,
   "id": "7f518438",
   "metadata": {},
   "outputs": [
    {
     "name": "stdout",
     "output_type": "stream",
     "text": [
      "Requirement already satisfied: classiq in c:\\users\\racha\\anaconda3\\lib\\site-packages (0.43.2)\n",
      "Requirement already satisfied: matplotlib<4.0.0,>=3.4.3 in c:\\users\\racha\\anaconda3\\lib\\site-packages (from classiq) (3.5.1)\n",
      "Requirement already satisfied: numexpr<3.0.0,>=2.7.3 in c:\\users\\racha\\anaconda3\\lib\\site-packages (from classiq) (2.8.1)\n",
      "Requirement already satisfied: pandas<3.0.0,>=1.4.0 in c:\\users\\racha\\anaconda3\\lib\\site-packages (from classiq) (1.4.2)\n",
      "Requirement already satisfied: ConfigArgParse<2.0.0,>=1.5.3 in c:\\users\\racha\\anaconda3\\lib\\site-packages (from classiq) (1.7)\n",
      "Requirement already satisfied: packaging<23.0,>=22.0 in c:\\users\\racha\\anaconda3\\lib\\site-packages (from classiq) (22.0)\n",
      "Requirement already satisfied: networkx<3.0.0,>=2.5.1 in c:\\users\\racha\\anaconda3\\lib\\site-packages (from classiq) (2.7.1)\n",
      "Requirement already satisfied: sympy<1.11.0,>=1.9.0 in c:\\users\\racha\\anaconda3\\lib\\site-packages (from classiq) (1.10.1)\n",
      "Requirement already satisfied: httpx<1,>=0.23.0 in c:\\users\\racha\\anaconda3\\lib\\site-packages (from classiq) (0.27.0)\n",
      "Requirement already satisfied: Pyomo<6.6,>=6.5 in c:\\users\\racha\\anaconda3\\lib\\site-packages (from classiq) (6.5.0)\n",
      "Requirement already satisfied: scipy<2.0.0,>=1.10.1 in c:\\users\\racha\\anaconda3\\lib\\site-packages (from classiq) (1.13.1)\n",
      "Requirement already satisfied: pydantic<2.0.0,>=1.9.1 in c:\\users\\racha\\anaconda3\\lib\\site-packages (from classiq) (1.10.17)\n",
      "Requirement already satisfied: keyring<24.0.0,>=23.5.0 in c:\\users\\racha\\anaconda3\\lib\\site-packages (from classiq) (23.13.1)\n",
      "Requirement already satisfied: numpy<2.0.0,>=1.20.1 in c:\\users\\racha\\anaconda3\\lib\\site-packages (from classiq) (1.26.4)\n",
      "Requirement already satisfied: tabulate<1,>=0.8.9 in c:\\users\\racha\\anaconda3\\lib\\site-packages (from classiq) (0.8.9)\n",
      "Requirement already satisfied: black<25.0,>=24.0 in c:\\users\\racha\\anaconda3\\lib\\site-packages (from classiq) (24.4.2)\n",
      "Requirement already satisfied: plotly<6.0.0,>=5.7.0 in c:\\users\\racha\\anaconda3\\lib\\site-packages (from classiq) (5.22.0)\n",
      "Requirement already satisfied: typing-extensions>=4.0.1 in c:\\users\\racha\\anaconda3\\lib\\site-packages (from black<25.0,>=24.0->classiq) (4.12.2)\n",
      "Requirement already satisfied: platformdirs>=2 in c:\\users\\racha\\anaconda3\\lib\\site-packages (from black<25.0,>=24.0->classiq) (4.2.2)\n",
      "Requirement already satisfied: click>=8.0.0 in c:\\users\\racha\\anaconda3\\lib\\site-packages (from black<25.0,>=24.0->classiq) (8.0.4)\n",
      "Requirement already satisfied: tomli>=1.1.0 in c:\\users\\racha\\anaconda3\\lib\\site-packages (from black<25.0,>=24.0->classiq) (1.2.2)\n",
      "Requirement already satisfied: mypy-extensions>=0.4.3 in c:\\users\\racha\\anaconda3\\lib\\site-packages (from black<25.0,>=24.0->classiq) (0.4.3)\n",
      "Requirement already satisfied: pathspec>=0.9.0 in c:\\users\\racha\\anaconda3\\lib\\site-packages (from black<25.0,>=24.0->classiq) (0.12.1)\n",
      "Requirement already satisfied: colorama in c:\\users\\racha\\anaconda3\\lib\\site-packages (from click>=8.0.0->black<25.0,>=24.0->classiq) (0.4.4)\n",
      "Requirement already satisfied: anyio in c:\\users\\racha\\anaconda3\\lib\\site-packages (from httpx<1,>=0.23.0->classiq) (3.5.0)\n",
      "Requirement already satisfied: idna in c:\\users\\racha\\anaconda3\\lib\\site-packages (from httpx<1,>=0.23.0->classiq) (3.3)\n",
      "Requirement already satisfied: httpcore==1.* in c:\\users\\racha\\anaconda3\\lib\\site-packages (from httpx<1,>=0.23.0->classiq) (1.0.5)\n",
      "Requirement already satisfied: sniffio in c:\\users\\racha\\anaconda3\\lib\\site-packages (from httpx<1,>=0.23.0->classiq) (1.2.0)\n",
      "Requirement already satisfied: certifi in c:\\users\\racha\\anaconda3\\lib\\site-packages (from httpx<1,>=0.23.0->classiq) (2021.10.8)\n",
      "Requirement already satisfied: h11<0.15,>=0.13 in c:\\users\\racha\\anaconda3\\lib\\site-packages (from httpcore==1.*->httpx<1,>=0.23.0->classiq) (0.14.0)\n",
      "Requirement already satisfied: jaraco.classes in c:\\users\\racha\\anaconda3\\lib\\site-packages (from keyring<24.0.0,>=23.5.0->classiq) (3.4.0)\n",
      "Requirement already satisfied: pywin32-ctypes>=0.2.0 in c:\\users\\racha\\anaconda3\\lib\\site-packages (from keyring<24.0.0,>=23.5.0->classiq) (0.2.0)\n",
      "Requirement already satisfied: importlib-metadata>=4.11.4 in c:\\users\\racha\\anaconda3\\lib\\site-packages (from keyring<24.0.0,>=23.5.0->classiq) (8.0.0)\n",
      "Requirement already satisfied: zipp>=0.5 in c:\\users\\racha\\anaconda3\\lib\\site-packages (from importlib-metadata>=4.11.4->keyring<24.0.0,>=23.5.0->classiq) (3.7.0)\n",
      "Requirement already satisfied: kiwisolver>=1.0.1 in c:\\users\\racha\\anaconda3\\lib\\site-packages (from matplotlib<4.0.0,>=3.4.3->classiq) (1.3.2)\n",
      "Requirement already satisfied: cycler>=0.10 in c:\\users\\racha\\anaconda3\\lib\\site-packages (from matplotlib<4.0.0,>=3.4.3->classiq) (0.11.0)\n",
      "Requirement already satisfied: pyparsing>=2.2.1 in c:\\users\\racha\\anaconda3\\lib\\site-packages (from matplotlib<4.0.0,>=3.4.3->classiq) (3.0.4)\n",
      "Requirement already satisfied: python-dateutil>=2.7 in c:\\users\\racha\\anaconda3\\lib\\site-packages (from matplotlib<4.0.0,>=3.4.3->classiq) (2.8.2)\n",
      "Requirement already satisfied: fonttools>=4.22.0 in c:\\users\\racha\\anaconda3\\lib\\site-packages (from matplotlib<4.0.0,>=3.4.3->classiq) (4.25.0)\n",
      "Requirement already satisfied: pillow>=6.2.0 in c:\\users\\racha\\anaconda3\\lib\\site-packages (from matplotlib<4.0.0,>=3.4.3->classiq) (9.0.1)\n",
      "Requirement already satisfied: pytz>=2020.1 in c:\\users\\racha\\anaconda3\\lib\\site-packages (from pandas<3.0.0,>=1.4.0->classiq) (2021.3)\n",
      "Requirement already satisfied: tenacity>=6.2.0 in c:\\users\\racha\\anaconda3\\lib\\site-packages (from plotly<6.0.0,>=5.7.0->classiq) (8.0.1)\n",
      "Requirement already satisfied: ply in c:\\users\\racha\\anaconda3\\lib\\site-packages (from Pyomo<6.6,>=6.5->classiq) (3.11)\n",
      "Requirement already satisfied: six>=1.5 in c:\\users\\racha\\anaconda3\\lib\\site-packages (from python-dateutil>=2.7->matplotlib<4.0.0,>=3.4.3->classiq) (1.16.0)\n",
      "Requirement already satisfied: mpmath>=0.19 in c:\\users\\racha\\anaconda3\\lib\\site-packages (from sympy<1.11.0,>=1.9.0->classiq) (1.2.1)\n",
      "Requirement already satisfied: more-itertools in c:\\users\\racha\\anaconda3\\lib\\site-packages (from jaraco.classes->keyring<24.0.0,>=23.5.0->classiq) (10.3.0)\n"
     ]
    }
   ],
   "source": [
    "!pip install classiq\n",
    "from classiq import *"
   ]
  },
  {
   "cell_type": "code",
   "execution_count": 7,
   "id": "950264b9",
   "metadata": {},
   "outputs": [
    {
     "name": "stdout",
     "output_type": "stream",
     "text": [
      "State=0, prob vec =[0, 0.5, 0, 0, 0, 0, 0, 0, 0, 0, 0, 0, 0, 0, 0, 0]\n",
      "State=1, prob vec =[0.5, 0, 0.5, 0, 0, 0, 0, 0, 0, 0, 0, 0, 0, 0, 0, 0]\n",
      "State=2, prob vec =[0, 0.5, 0, 0.5, 0, 0, 0, 0, 0, 0, 0, 0, 0, 0, 0, 0]\n",
      "State=3, prob vec =[0, 0, 0.5, 0, 0.5, 0, 0, 0, 0, 0, 0, 0, 0, 0, 0, 0]\n",
      "State=4, prob vec =[0, 0, 0, 0.5, 0, 0.5, 0, 0, 0, 0, 0, 0, 0, 0, 0, 0]\n",
      "State=5, prob vec =[0, 0, 0, 0, 0.5, 0, 0.5, 0, 0, 0, 0, 0, 0, 0, 0, 0]\n",
      "State=6, prob vec =[0, 0, 0, 0, 0, 0.5, 0, 0.5, 0, 0, 0, 0, 0, 0, 0, 0]\n",
      "State=7, prob vec =[0, 0, 0, 0, 0, 0, 0.5, 0, 0.5, 0, 0, 0, 0, 0, 0, 0]\n",
      "State=8, prob vec =[0, 0, 0, 0, 0, 0, 0, 0.5, 0, 0.5, 0, 0, 0, 0, 0, 0]\n",
      "State=9, prob vec =[0, 0, 0, 0, 0, 0, 0, 0, 0.5, 0, 0.5, 0, 0, 0, 0, 0]\n",
      "State=10, prob vec =[0, 0, 0, 0, 0, 0, 0, 0, 0, 0.5, 0, 0.5, 0, 0, 0, 0]\n",
      "State=11, prob vec =[0, 0, 0, 0, 0, 0, 0, 0, 0, 0, 0.5, 0, 0.5, 0, 0, 0]\n",
      "State=12, prob vec =[0, 0, 0, 0, 0, 0, 0, 0, 0, 0, 0, 0.5, 0, 0.5, 0, 0]\n",
      "State=13, prob vec =[0, 0, 0, 0, 0, 0, 0, 0, 0, 0, 0, 0, 0.5, 0, 0.5, 0]\n",
      "State=14, prob vec =[0, 0, 0, 0, 0, 0, 0, 0, 0, 0, 0, 0, 0, 0.5, 0, 0.5]\n",
      "State=15, prob vec =[0, 0, 0, 0, 0, 0, 0, 0, 0, 0, 0, 0, 0, 0, 0.5, 0]\n"
     ]
    },
    {
     "ename": "ClassiqAPIError",
     "evalue": "Call to API failed with code 401: Not authenticated\nIf you need further assistance, please reach out on our Community Slack channel at: https://short.classiq.io/join-slack",
     "output_type": "error",
     "traceback": [
      "\u001b[1;31m---------------------------------------------------------------------------\u001b[0m",
      "\u001b[1;31mClassiqAPIError\u001b[0m                           Traceback (most recent call last)",
      "Input \u001b[1;32mIn [7]\u001b[0m, in \u001b[0;36m<cell line: 89>\u001b[1;34m()\u001b[0m\n\u001b[0;32m     85\u001b[0m     S_operator(vertices, adjacent_vertices)\n\u001b[0;32m     88\u001b[0m qmod \u001b[38;5;241m=\u001b[39m create_model(main)\n\u001b[1;32m---> 89\u001b[0m qprog \u001b[38;5;241m=\u001b[39m \u001b[43msynthesize\u001b[49m\u001b[43m(\u001b[49m\u001b[43mqmod\u001b[49m\u001b[43m)\u001b[49m\n\u001b[0;32m     90\u001b[0m show(qprog)\n",
      "File \u001b[1;32m~\\anaconda3\\lib\\site-packages\\classiq\\_internals\\async_utils.py:45\u001b[0m, in \u001b[0;36msyncify_function.<locals>.async_wrapper\u001b[1;34m(*args, **kwargs)\u001b[0m\n\u001b[0;32m     43\u001b[0m \u001b[38;5;129m@functools\u001b[39m\u001b[38;5;241m.\u001b[39mwraps(async_func)\n\u001b[0;32m     44\u001b[0m \u001b[38;5;28;01mdef\u001b[39;00m \u001b[38;5;21masync_wrapper\u001b[39m(\u001b[38;5;241m*\u001b[39margs: Any, \u001b[38;5;241m*\u001b[39m\u001b[38;5;241m*\u001b[39mkwargs: Any) \u001b[38;5;241m-\u001b[39m\u001b[38;5;241m>\u001b[39m T:\n\u001b[1;32m---> 45\u001b[0m     \u001b[38;5;28;01mreturn\u001b[39;00m \u001b[43mrun\u001b[49m\u001b[43m(\u001b[49m\u001b[43masync_func\u001b[49m\u001b[43m(\u001b[49m\u001b[38;5;241;43m*\u001b[39;49m\u001b[43margs\u001b[49m\u001b[43m,\u001b[49m\u001b[43m \u001b[49m\u001b[38;5;241;43m*\u001b[39;49m\u001b[38;5;241;43m*\u001b[39;49m\u001b[43mkwargs\u001b[49m\u001b[43m)\u001b[49m\u001b[43m)\u001b[49m\n",
      "File \u001b[1;32m~\\anaconda3\\lib\\site-packages\\classiq\\_internals\\async_utils.py:39\u001b[0m, in \u001b[0;36mrun\u001b[1;34m(coro)\u001b[0m\n\u001b[0;32m     34\u001b[0m \u001b[38;5;28;01mdef\u001b[39;00m \u001b[38;5;21mrun\u001b[39m(coro: Awaitable[T]) \u001b[38;5;241m-\u001b[39m\u001b[38;5;241m>\u001b[39m T:\n\u001b[0;32m     35\u001b[0m     \u001b[38;5;66;03m# Use this function instead of asyncio.run, since it ALWAYS\u001b[39;00m\n\u001b[0;32m     36\u001b[0m     \u001b[38;5;66;03m# creates a new event loop and clears the thread event loop.\u001b[39;00m\n\u001b[0;32m     37\u001b[0m     \u001b[38;5;66;03m# Never use asyncio.run in library code.\u001b[39;00m\n\u001b[0;32m     38\u001b[0m     loop \u001b[38;5;241m=\u001b[39m get_event_loop()\n\u001b[1;32m---> 39\u001b[0m     \u001b[38;5;28;01mreturn\u001b[39;00m \u001b[43mloop\u001b[49m\u001b[38;5;241;43m.\u001b[39;49m\u001b[43mrun_until_complete\u001b[49m\u001b[43m(\u001b[49m\u001b[43mcoro\u001b[49m\u001b[43m)\u001b[49m\n",
      "File \u001b[1;32m~\\anaconda3\\lib\\site-packages\\nest_asyncio.py:89\u001b[0m, in \u001b[0;36m_patch_loop.<locals>.run_until_complete\u001b[1;34m(self, future)\u001b[0m\n\u001b[0;32m     86\u001b[0m \u001b[38;5;28;01mif\u001b[39;00m \u001b[38;5;129;01mnot\u001b[39;00m f\u001b[38;5;241m.\u001b[39mdone():\n\u001b[0;32m     87\u001b[0m     \u001b[38;5;28;01mraise\u001b[39;00m \u001b[38;5;167;01mRuntimeError\u001b[39;00m(\n\u001b[0;32m     88\u001b[0m         \u001b[38;5;124m'\u001b[39m\u001b[38;5;124mEvent loop stopped before Future completed.\u001b[39m\u001b[38;5;124m'\u001b[39m)\n\u001b[1;32m---> 89\u001b[0m \u001b[38;5;28;01mreturn\u001b[39;00m \u001b[43mf\u001b[49m\u001b[38;5;241;43m.\u001b[39;49m\u001b[43mresult\u001b[49m\u001b[43m(\u001b[49m\u001b[43m)\u001b[49m\n",
      "File \u001b[1;32m~\\anaconda3\\lib\\asyncio\\futures.py:201\u001b[0m, in \u001b[0;36mFuture.result\u001b[1;34m(self)\u001b[0m\n\u001b[0;32m    199\u001b[0m \u001b[38;5;28mself\u001b[39m\u001b[38;5;241m.\u001b[39m__log_traceback \u001b[38;5;241m=\u001b[39m \u001b[38;5;28;01mFalse\u001b[39;00m\n\u001b[0;32m    200\u001b[0m \u001b[38;5;28;01mif\u001b[39;00m \u001b[38;5;28mself\u001b[39m\u001b[38;5;241m.\u001b[39m_exception \u001b[38;5;129;01mis\u001b[39;00m \u001b[38;5;129;01mnot\u001b[39;00m \u001b[38;5;28;01mNone\u001b[39;00m:\n\u001b[1;32m--> 201\u001b[0m     \u001b[38;5;28;01mraise\u001b[39;00m \u001b[38;5;28mself\u001b[39m\u001b[38;5;241m.\u001b[39m_exception\n\u001b[0;32m    202\u001b[0m \u001b[38;5;28;01mreturn\u001b[39;00m \u001b[38;5;28mself\u001b[39m\u001b[38;5;241m.\u001b[39m_result\n",
      "File \u001b[1;32m~\\anaconda3\\lib\\asyncio\\tasks.py:256\u001b[0m, in \u001b[0;36mTask.__step\u001b[1;34m(***failed resolving arguments***)\u001b[0m\n\u001b[0;32m    252\u001b[0m \u001b[38;5;28;01mtry\u001b[39;00m:\n\u001b[0;32m    253\u001b[0m     \u001b[38;5;28;01mif\u001b[39;00m exc \u001b[38;5;129;01mis\u001b[39;00m \u001b[38;5;28;01mNone\u001b[39;00m:\n\u001b[0;32m    254\u001b[0m         \u001b[38;5;66;03m# We use the `send` method directly, because coroutines\u001b[39;00m\n\u001b[0;32m    255\u001b[0m         \u001b[38;5;66;03m# don't have `__iter__` and `__next__` methods.\u001b[39;00m\n\u001b[1;32m--> 256\u001b[0m         result \u001b[38;5;241m=\u001b[39m \u001b[43mcoro\u001b[49m\u001b[38;5;241;43m.\u001b[39;49m\u001b[43msend\u001b[49m\u001b[43m(\u001b[49m\u001b[38;5;28;43;01mNone\u001b[39;49;00m\u001b[43m)\u001b[49m\n\u001b[0;32m    257\u001b[0m     \u001b[38;5;28;01melse\u001b[39;00m:\n\u001b[0;32m    258\u001b[0m         result \u001b[38;5;241m=\u001b[39m coro\u001b[38;5;241m.\u001b[39mthrow(exc)\n",
      "File \u001b[1;32m~\\anaconda3\\lib\\site-packages\\classiq\\synthesis.py:20\u001b[0m, in \u001b[0;36msynthesize_async\u001b[1;34m(serialized_model)\u001b[0m\n\u001b[0;32m     16\u001b[0m \u001b[38;5;28;01masync\u001b[39;00m \u001b[38;5;28;01mdef\u001b[39;00m \u001b[38;5;21msynthesize_async\u001b[39m(\n\u001b[0;32m     17\u001b[0m     serialized_model: SerializedModel,\n\u001b[0;32m     18\u001b[0m ) \u001b[38;5;241m-\u001b[39m\u001b[38;5;241m>\u001b[39m SerializedQuantumProgram:\n\u001b[0;32m     19\u001b[0m     model \u001b[38;5;241m=\u001b[39m pydantic\u001b[38;5;241m.\u001b[39mparse_raw_as(Model, serialized_model)\n\u001b[1;32m---> 20\u001b[0m     quantum_program \u001b[38;5;241m=\u001b[39m \u001b[38;5;28;01mawait\u001b[39;00m ApiWrapper\u001b[38;5;241m.\u001b[39mcall_generation_task(model)\n\u001b[0;32m     21\u001b[0m     \u001b[38;5;28;01mreturn\u001b[39;00m SerializedQuantumProgram(quantum_program\u001b[38;5;241m.\u001b[39mjson(indent\u001b[38;5;241m=\u001b[39m\u001b[38;5;241m2\u001b[39m))\n",
      "File \u001b[1;32m~\\anaconda3\\lib\\site-packages\\classiq\\_internals\\api_wrapper.py:101\u001b[0m, in \u001b[0;36mApiWrapper.call_generation_task\u001b[1;34m(cls, model)\u001b[0m\n\u001b[0;32m     96\u001b[0m \u001b[38;5;129m@classmethod\u001b[39m\n\u001b[0;32m     97\u001b[0m \u001b[38;5;28;01masync\u001b[39;00m \u001b[38;5;28;01mdef\u001b[39;00m \u001b[38;5;21mcall_generation_task\u001b[39m(\n\u001b[0;32m     98\u001b[0m     \u001b[38;5;28mcls\u001b[39m, model: Model\n\u001b[0;32m     99\u001b[0m ) \u001b[38;5;241m-\u001b[39m\u001b[38;5;241m>\u001b[39m generator_result\u001b[38;5;241m.\u001b[39mQuantumProgram:\n\u001b[0;32m    100\u001b[0m     poller \u001b[38;5;241m=\u001b[39m JobPoller(base_url\u001b[38;5;241m=\u001b[39mroutes\u001b[38;5;241m.\u001b[39mTASKS_GENERATE_FULL_PATH)\n\u001b[1;32m--> 101\u001b[0m     result \u001b[38;5;241m=\u001b[39m \u001b[38;5;28;01mawait\u001b[39;00m poller\u001b[38;5;241m.\u001b[39mrun_pydantic(model, timeout_sec\u001b[38;5;241m=\u001b[39m\u001b[38;5;28;01mNone\u001b[39;00m)\n\u001b[0;32m    102\u001b[0m     \u001b[38;5;28;01mreturn\u001b[39;00m _parse_job_response(result, generator_result\u001b[38;5;241m.\u001b[39mQuantumProgram)\n",
      "File \u001b[1;32m~\\anaconda3\\lib\\site-packages\\classiq\\_internals\\jobs.py:175\u001b[0m, in \u001b[0;36mJobPoller.run_pydantic\u001b[1;34m(self, model, timeout_sec)\u001b[0m\n\u001b[0;32m    168\u001b[0m \u001b[38;5;28;01masync\u001b[39;00m \u001b[38;5;28;01mdef\u001b[39;00m \u001b[38;5;21mrun_pydantic\u001b[39m(\n\u001b[0;32m    169\u001b[0m     \u001b[38;5;28mself\u001b[39m, model: pydantic\u001b[38;5;241m.\u001b[39mBaseModel, timeout_sec: Optional[\u001b[38;5;28mfloat\u001b[39m]\n\u001b[0;32m    170\u001b[0m ) \u001b[38;5;241m-\u001b[39m\u001b[38;5;241m>\u001b[39m GeneralJobDescription:\n\u001b[0;32m    171\u001b[0m     \u001b[38;5;66;03m# TODO: we can't use model.dict() - it doesn't serialize complex class.\u001b[39;00m\n\u001b[0;32m    172\u001b[0m     \u001b[38;5;66;03m# This was added because JSON serializer doesn't serialize complex type, and pydantic does.\u001b[39;00m\n\u001b[0;32m    173\u001b[0m     \u001b[38;5;66;03m# We should add support for smarter json serialization.\u001b[39;00m\n\u001b[0;32m    174\u001b[0m     body \u001b[38;5;241m=\u001b[39m json\u001b[38;5;241m.\u001b[39mloads(model\u001b[38;5;241m.\u001b[39mjson())\n\u001b[1;32m--> 175\u001b[0m     \u001b[38;5;28;01mreturn\u001b[39;00m \u001b[38;5;28;01mawait\u001b[39;00m \u001b[38;5;28mself\u001b[39m\u001b[38;5;241m.\u001b[39mrun(body, timeout_sec)\n",
      "File \u001b[1;32m~\\anaconda3\\lib\\site-packages\\classiq\\_internals\\jobs.py:158\u001b[0m, in \u001b[0;36mJobPoller.run\u001b[1;34m(self, body, timeout_sec)\u001b[0m\n\u001b[0;32m    154\u001b[0m \u001b[38;5;28;01masync\u001b[39;00m \u001b[38;5;28;01mdef\u001b[39;00m \u001b[38;5;21mrun\u001b[39m(\n\u001b[0;32m    155\u001b[0m     \u001b[38;5;28mself\u001b[39m, body: Dict, timeout_sec: Optional[\u001b[38;5;28mfloat\u001b[39m]\n\u001b[0;32m    156\u001b[0m ) \u001b[38;5;241m-\u001b[39m\u001b[38;5;241m>\u001b[39m GeneralJobDescription:\n\u001b[0;32m    157\u001b[0m     \u001b[38;5;28;01masync\u001b[39;00m \u001b[38;5;28;01mwith\u001b[39;00m \u001b[38;5;28mself\u001b[39m\u001b[38;5;241m.\u001b[39m_async_client:\n\u001b[1;32m--> 158\u001b[0m         submit_response \u001b[38;5;241m=\u001b[39m \u001b[38;5;28;01mawait\u001b[39;00m \u001b[38;5;28mself\u001b[39m\u001b[38;5;241m.\u001b[39m_submit(body\u001b[38;5;241m=\u001b[39mbody)\n\u001b[0;32m    159\u001b[0m         job_id \u001b[38;5;241m=\u001b[39m \u001b[38;5;28mself\u001b[39m\u001b[38;5;241m.\u001b[39m_parse_job_id_response(response\u001b[38;5;241m=\u001b[39msubmit_response)\n\u001b[0;32m    160\u001b[0m         poll_url \u001b[38;5;241m=\u001b[39m \u001b[38;5;28mself\u001b[39m\u001b[38;5;241m.\u001b[39m_make_poll_url(job_id\u001b[38;5;241m=\u001b[39mjob_id)\n",
      "File \u001b[1;32m~\\anaconda3\\lib\\site-packages\\classiq\\_internals\\jobs.py:102\u001b[0m, in \u001b[0;36mJobPoller._submit\u001b[1;34m(self, body)\u001b[0m\n\u001b[0;32m    101\u001b[0m \u001b[38;5;28;01masync\u001b[39;00m \u001b[38;5;28;01mdef\u001b[39;00m \u001b[38;5;21m_submit\u001b[39m(\u001b[38;5;28mself\u001b[39m, body: Dict) \u001b[38;5;241m-\u001b[39m\u001b[38;5;241m>\u001b[39m httpx\u001b[38;5;241m.\u001b[39mResponse:\n\u001b[1;32m--> 102\u001b[0m     \u001b[38;5;28;01mreturn\u001b[39;00m \u001b[38;5;28;01mawait\u001b[39;00m \u001b[38;5;28mself\u001b[39m\u001b[38;5;241m.\u001b[39m_request(http_method\u001b[38;5;241m=\u001b[39m\u001b[38;5;124m\"\u001b[39m\u001b[38;5;124mPOST\u001b[39m\u001b[38;5;124m\"\u001b[39m, url\u001b[38;5;241m=\u001b[39m\u001b[38;5;28mself\u001b[39m\u001b[38;5;241m.\u001b[39m_base_url, body\u001b[38;5;241m=\u001b[39mbody)\n",
      "File \u001b[1;32m~\\anaconda3\\lib\\site-packages\\classiq\\_internals\\client.py:114\u001b[0m, in \u001b[0;36mtry_again_on_failure.<locals>.wrapper\u001b[1;34m(*args, **kwargs)\u001b[0m\n\u001b[0;32m    112\u001b[0m \u001b[38;5;28;01mfor\u001b[39;00m i \u001b[38;5;129;01min\u001b[39;00m \u001b[38;5;28mrange\u001b[39m(_RETRY_COUNT):\n\u001b[0;32m    113\u001b[0m     \u001b[38;5;28;01mtry\u001b[39;00m:\n\u001b[1;32m--> 114\u001b[0m         \u001b[38;5;28;01mreturn\u001b[39;00m \u001b[38;5;28;01mawait\u001b[39;00m func(\u001b[38;5;241m*\u001b[39margs, \u001b[38;5;241m*\u001b[39m\u001b[38;5;241m*\u001b[39mkwargs)\n\u001b[0;32m    115\u001b[0m     \u001b[38;5;28;01mexcept\u001b[39;00m ClassiqExpiredTokenError:\n\u001b[0;32m    116\u001b[0m         _logger\u001b[38;5;241m.\u001b[39minfo(\n\u001b[0;32m    117\u001b[0m             \u001b[38;5;124m\"\u001b[39m\u001b[38;5;124mToken expired when trying to \u001b[39m\u001b[38;5;132;01m%s\u001b[39;00m\u001b[38;5;124m with args \u001b[39m\u001b[38;5;132;01m%s\u001b[39;00m\u001b[38;5;124m \u001b[39m\u001b[38;5;132;01m%s\u001b[39;00m\u001b[38;5;124m\"\u001b[39m,\n\u001b[0;32m    118\u001b[0m             func,\n\u001b[1;32m   (...)\u001b[0m\n\u001b[0;32m    121\u001b[0m             exc_info\u001b[38;5;241m=\u001b[39m\u001b[38;5;28;01mTrue\u001b[39;00m,\n\u001b[0;32m    122\u001b[0m         )\n",
      "File \u001b[1;32m~\\anaconda3\\lib\\site-packages\\classiq\\_internals\\jobs.py:98\u001b[0m, in \u001b[0;36mJobPoller._request\u001b[1;34m(self, http_method, url, body)\u001b[0m\n\u001b[0;32m     94\u001b[0m \u001b[38;5;28mself\u001b[39m\u001b[38;5;241m.\u001b[39m_async_client\u001b[38;5;241m.\u001b[39mheaders\u001b[38;5;241m.\u001b[39mupdate(client()\u001b[38;5;241m.\u001b[39mget_headers())\n\u001b[0;32m     95\u001b[0m response \u001b[38;5;241m=\u001b[39m \u001b[38;5;28;01mawait\u001b[39;00m \u001b[38;5;28mself\u001b[39m\u001b[38;5;241m.\u001b[39m_async_client\u001b[38;5;241m.\u001b[39mrequest(\n\u001b[0;32m     96\u001b[0m     method\u001b[38;5;241m=\u001b[39mhttp_method, url\u001b[38;5;241m=\u001b[39murl, json\u001b[38;5;241m=\u001b[39mbody, headers\u001b[38;5;241m=\u001b[39m\u001b[38;5;28mself\u001b[39m\u001b[38;5;241m.\u001b[39m_additional_headers\n\u001b[0;32m     97\u001b[0m )\n\u001b[1;32m---> 98\u001b[0m \u001b[43mclient\u001b[49m\u001b[43m(\u001b[49m\u001b[43m)\u001b[49m\u001b[38;5;241;43m.\u001b[39;49m\u001b[43mhandle_response\u001b[49m\u001b[43m(\u001b[49m\u001b[43mresponse\u001b[49m\u001b[43m)\u001b[49m\n\u001b[0;32m     99\u001b[0m \u001b[38;5;28;01mreturn\u001b[39;00m response\n",
      "File \u001b[1;32m~\\anaconda3\\lib\\site-packages\\classiq\\_internals\\client.py:190\u001b[0m, in \u001b[0;36mClient.handle_response\u001b[1;34m(self, response)\u001b[0m\n\u001b[0;32m    188\u001b[0m \u001b[38;5;28mself\u001b[39m\u001b[38;5;241m.\u001b[39m_handle_warnings(response)\n\u001b[0;32m    189\u001b[0m \u001b[38;5;28;01mif\u001b[39;00m response\u001b[38;5;241m.\u001b[39mis_error:\n\u001b[1;32m--> 190\u001b[0m     \u001b[38;5;28;43mself\u001b[39;49m\u001b[38;5;241;43m.\u001b[39;49m\u001b[43m_handle_error\u001b[49m\u001b[43m(\u001b[49m\u001b[43mresponse\u001b[49m\u001b[43m)\u001b[49m\n\u001b[0;32m    191\u001b[0m \u001b[38;5;28mself\u001b[39m\u001b[38;5;241m.\u001b[39m_handle_success(response)\n",
      "File \u001b[1;32m~\\anaconda3\\lib\\site-packages\\classiq\\_internals\\client.py:209\u001b[0m, in \u001b[0;36mClient._handle_error\u001b[1;34m(response)\u001b[0m\n\u001b[0;32m    207\u001b[0m \u001b[38;5;28;01mexcept\u001b[39;00m \u001b[38;5;167;01mException\u001b[39;00m:  \u001b[38;5;66;03m# noqa: S110\u001b[39;00m\n\u001b[0;32m    208\u001b[0m     \u001b[38;5;28;01mpass\u001b[39;00m\n\u001b[1;32m--> 209\u001b[0m \u001b[38;5;28;01mraise\u001b[39;00m ClassiqAPIError(message)\n",
      "\u001b[1;31mClassiqAPIError\u001b[0m: Call to API failed with code 401: Not authenticated\nIf you need further assistance, please reach out on our Community Slack channel at: https://short.classiq.io/join-slack"
     ]
    }
   ],
   "source": [
    "size = 4  # For a line with 16 nodes\n",
    "\n",
    "\n",
    "#prepare_minus: Prepares the minus state by applying the X and H gates\n",
    "\n",
    "@qfunc\n",
    "def prepare_minus(x: QBit):\n",
    "    X(x)\n",
    "    H(x)\n",
    "\n",
    "    \n",
    "    \n",
    "#Applies the diffuser oracle based on the input state\n",
    "\n",
    "@qfunc\n",
    "def diffuzer_oracle(aux: Output[QNum], x: QNum):\n",
    "    aux ^= (x != 0)\n",
    "\n",
    "    \n",
    "    \n",
    "#zero_diffuzer: Prepares the initial state and applies the diffuser oracle. \n",
    "\n",
    "@qfunc\n",
    "def zero_diffuzer(x: QNum):\n",
    "    aux = QNum('aux')\n",
    "    allocate(1, aux)\n",
    "    within_apply(compute=lambda: prepare_minus(aux),\n",
    "                 action=lambda: diffuzer_oracle(aux, x))\n",
    "\n",
    "    \n",
    "# W Operator Defines the probability distribution for moving between nodes in a circle. \n",
    "\n",
    "\n",
    "\n",
    "def W_iteration_line(i: int, vertices: QNum, adjacent_vertices: QNum):\n",
    "    prob = [0] * 16\n",
    "    if i > 0:\n",
    "        prob[i - 1] = 0.5\n",
    "    if i < 15:\n",
    "        prob[i + 1] = 0.5\n",
    "    print(f'State={i}, prob vec ={prob}')\n",
    "    \n",
    "    control(ctrl=vertices == i,\n",
    "            operand=lambda: within_apply(\n",
    "                compute=lambda: inplace_prepare_state(probabilities=prob, bound=0.01, target=adjacent_vertices),\n",
    "                action=lambda: zero_diffuzer(adjacent_vertices)))\n",
    "\n",
    "\n",
    "@qfunc\n",
    "def W_operator_line(vertices: QNum, adjacent_vertices: QNum):\n",
    "    for i in range(2 ** size):\n",
    "        W_iteration_line(i, vertices, adjacent_vertices)\n",
    "\n",
    "#S Operator: edge_oracle: Determines if the current state satisfies the oracle condition. bitwise_swap: Swaps the bits between two arrays. S_operator: Applies the swap operation based on the oracle result.\n",
    "\n",
    "@qfunc\n",
    "def edge_oracle(res: Output[QBit], vertices: QNum, adjacent_vertices: QNum):\n",
    "    res |= (((vertices + adjacent_vertices) % 2) == 1)\n",
    "\n",
    "\n",
    "@qfunc\n",
    "def bitwise_swap(x: QArray[QBit], y: QArray[QBit]):\n",
    "    repeat(count=x.len,\n",
    "           iteration=lambda i: SWAP(x[i], y[i]))\n",
    "\n",
    "@qfunc\n",
    "def S_operator(vertices: QNum, adjacent_vertices: QNum):\n",
    "    res = QNum('res')\n",
    "    edge_oracle(res, vertices, adjacent_vertices)\n",
    "    control(ctrl=res == 1,\n",
    "            operand=lambda: bitwise_swap(vertices, adjacent_vertices))\n",
    "\n",
    "#Main Function: main: Initializes the vertices and adjacent vertices, applies the Hadamard transform,\n",
    "#and then applies the W and S operators. \n",
    "#This approach provides a comprehensive setup for both a circle with 4 nodes and a line with 16 nodes,\n",
    "#demonstrating the flexibility and power of quantum walks for different graph structures\n",
    "\n",
    "@qfunc\n",
    "def main(vertices: Output[QNum], adjacent_vertices: Output[QNum]):\n",
    "    allocate(size, vertices)\n",
    "    hadamard_transform(vertices)\n",
    "    allocate(size, adjacent_vertices)\n",
    "\n",
    "    W_operator_line(vertices, adjacent_vertices)\n",
    "    S_operator(vertices, adjacent_vertices)\n",
    "\n",
    "\n",
    "qmod = create_model(main)\n",
    "qprog = synthesize(qmod)\n",
    "show(qprog)\n"
   ]
  },
  {
   "cell_type": "markdown",
   "id": "c3965ae6",
   "metadata": {},
   "source": [
    "# Coding with qiskit \n"
   ]
  },
  {
   "cell_type": "code",
   "execution_count": 11,
   "id": "1871f486",
   "metadata": {},
   "outputs": [
    {
     "name": "stdout",
     "output_type": "stream",
     "text": [
      "Requirement already satisfied: qiskit in c:\\users\\racha\\anaconda3\\lib\\site-packages (1.0.2)\n",
      "Requirement already satisfied: typing-extensions in c:\\users\\racha\\anaconda3\\lib\\site-packages (from qiskit) (4.12.2)\n",
      "Requirement already satisfied: dill>=0.3 in c:\\users\\racha\\anaconda3\\lib\\site-packages (from qiskit) (0.3.5.1)\n",
      "Requirement already satisfied: numpy<2,>=1.17 in c:\\users\\racha\\anaconda3\\lib\\site-packages (from qiskit) (1.26.4)\n",
      "Requirement already satisfied: scipy>=1.5 in c:\\users\\racha\\anaconda3\\lib\\site-packages (from qiskit) (1.13.1)\n",
      "Requirement already satisfied: sympy>=1.3 in c:\\users\\racha\\anaconda3\\lib\\site-packages (from qiskit) (1.10.1)\n",
      "Requirement already satisfied: stevedore>=3.0.0 in c:\\users\\racha\\anaconda3\\lib\\site-packages (from qiskit) (4.0.1)\n",
      "Requirement already satisfied: symengine>=0.11 in c:\\users\\racha\\anaconda3\\lib\\site-packages (from qiskit) (0.11.0)\n",
      "Requirement already satisfied: rustworkx>=0.14.0 in c:\\users\\racha\\anaconda3\\lib\\site-packages (from qiskit) (0.14.2)\n",
      "Requirement already satisfied: python-dateutil>=2.8.0 in c:\\users\\racha\\anaconda3\\lib\\site-packages (from qiskit) (2.8.2)\n",
      "Requirement already satisfied: six>=1.5 in c:\\users\\racha\\anaconda3\\lib\\site-packages (from python-dateutil>=2.8.0->qiskit) (1.16.0)\n",
      "Requirement already satisfied: pbr!=2.1.0,>=2.0.0 in c:\\users\\racha\\anaconda3\\lib\\site-packages (from stevedore>=3.0.0->qiskit) (5.10.0)\n",
      "Requirement already satisfied: mpmath>=0.19 in c:\\users\\racha\\anaconda3\\lib\\site-packages (from sympy>=1.3->qiskit) (1.2.1)\n"
     ]
    }
   ],
   "source": [
    "!pip install qiskit"
   ]
  },
  {
   "cell_type": "code",
   "execution_count": 12,
   "id": "d55d6500",
   "metadata": {},
   "outputs": [],
   "source": [
    "# Importing necessary libraries\n",
    "from qiskit import QuantumCircuit, Aer, execute\n",
    "from qiskit.visualization import plot_histogram\n",
    "import numpy as np"
   ]
  },
  {
   "cell_type": "code",
   "execution_count": 13,
   "id": "c37e097e",
   "metadata": {},
   "outputs": [],
   "source": [
    "def initialize_qubits(given_circuit, num_qubits):\n",
    "    # Initialize the position qubits in superposition\n",
    "    for qubit in range(num_qubits):\n",
    "        given_circuit.h(qubit)\n",
    "    return given_circuit\n",
    "\n",
    "# Initialize the quantum circuit\n",
    "num_qubits = 5  # 4 for position and 1 for the coin\n",
    "qc = QuantumCircuit(num_qubits)\n",
    "qc = initialize_qubits(qc, num_qubits)"
   ]
  },
  {
   "cell_type": "code",
   "execution_count": 14,
   "id": "7dd930ee",
   "metadata": {},
   "outputs": [],
   "source": [
    "# Coin operation\n",
    "def coin_operator(given_circuit, coin_qubit):\n",
    "    given_circuit.h(coin_qubit)\n",
    "    return given_circuit\n",
    "\n",
    "# Shift operation\n",
    "def shift_operator(given_circuit, position_qubits, coin_qubit):\n",
    "    # Conditional quantum gates for moving left or right\n",
    "    for i in range(len(position_qubits)):\n",
    "        given_circuit.ccx(coin_qubit, position_qubits[i], position_qubits[(i+1) % len(position_qubits)])\n",
    "        given_circuit.x(position_qubits[i])\n",
    "    return given_circuit\n",
    "\n",
    "# Add the coin and shift operations to the circuit\n",
    "qc = coin_operator(qc, num_qubits-1)\n",
    "qc = shift_operator(qc, list(range(num_qubits-1)), num_qubits-1)"
   ]
  },
  {
   "cell_type": "code",
   "execution_count": 15,
   "id": "a0d8d2f0",
   "metadata": {},
   "outputs": [
    {
     "data": {
      "image/png": "[encoded data removed]",
      "text/plain": [
       "<Figure size 504x360 with 1 Axes>"
      ]
     },
     "execution_count": 15,
     "metadata": {},
     "output_type": "execute_result"
    }
   ],
   "source": [
    "# Adding measurement\n",
    "qc.measure_all()\n",
    "\n",
    "# Simulating the quantum circuit\n",
    "simulator = Aer.get_backend('qasm_simulator')\n",
    "result = execute(qc, backend=simulator, shots=1024).result()\n",
    "counts = result.get_counts(qc)\n",
    "plot_histogram(counts)"
   ]
  },
  {
   "cell_type": "code",
   "execution_count": null,
   "id": "d4a19e39",
   "metadata": {},
   "outputs": [],
   "source": []
  }
 ],
 "metadata": {
  "kernelspec": {
   "display_name": "Python 3 (ipykernel)",
   "language": "python",
   "name": "python3"
  },
  "language_info": {
   "codemirror_mode": {
    "name": "ipython",
    "version": 3
   },
   "file_extension": ".py",
   "mimetype": "text/x-python",
   "name": "python",
   "nbconvert_exporter": "python",
   "pygments_lexer": "ipython3",
   "version": "3.9.12"
  }
 },
 "nbformat": 4,
 "nbformat_minor": 5
}
